{
 "cells": [
  {
   "cell_type": "code",
   "execution_count": 2,
   "metadata": {},
   "outputs": [
    {
     "name": "stdout",
     "output_type": "stream",
     "text": [
      "Requirement already satisfied: flask in c:\\users\\tertle-pc\\appdata\\local\\programs\\python\\python312\\lib\\site-packages (3.0.3)Note: you may need to restart the kernel to use updated packages.\n"
     ]
    },
    {
     "name": "stderr",
     "output_type": "stream",
     "text": [
      "\n",
      "[notice] A new release of pip is available: 24.3.1 -> 25.0.1\n",
      "[notice] To update, run: python.exe -m pip install --upgrade pip\n"
     ]
    },
    {
     "name": "stdout",
     "output_type": "stream",
     "text": [
      "\n",
      "Requirement already satisfied: Werkzeug>=3.0.0 in c:\\users\\tertle-pc\\appdata\\local\\programs\\python\\python312\\lib\\site-packages (from flask) (3.0.4)\n",
      "Requirement already satisfied: Jinja2>=3.1.2 in c:\\users\\tertle-pc\\appdata\\local\\programs\\python\\python312\\lib\\site-packages (from flask) (3.1.4)\n",
      "Requirement already satisfied: itsdangerous>=2.1.2 in c:\\users\\tertle-pc\\appdata\\local\\programs\\python\\python312\\lib\\site-packages (from flask) (2.2.0)\n",
      "Requirement already satisfied: click>=8.1.3 in c:\\users\\tertle-pc\\appdata\\local\\programs\\python\\python312\\lib\\site-packages (from flask) (8.1.7)\n",
      "Requirement already satisfied: blinker>=1.6.2 in c:\\users\\tertle-pc\\appdata\\local\\programs\\python\\python312\\lib\\site-packages (from flask) (1.8.2)\n",
      "Requirement already satisfied: colorama in c:\\users\\tertle-pc\\appdata\\roaming\\python\\python312\\site-packages (from click>=8.1.3->flask) (0.4.6)\n",
      "Requirement already satisfied: MarkupSafe>=2.0 in c:\\users\\tertle-pc\\appdata\\local\\programs\\python\\python312\\lib\\site-packages (from Jinja2>=3.1.2->flask) (2.1.5)\n"
     ]
    }
   ],
   "source": [
    "pip install flask\n"
   ]
  },
  {
   "cell_type": "code",
   "execution_count": null,
   "metadata": {},
   "outputs": [
    {
     "ename": "ModuleNotFoundError",
     "evalue": "No module named 'models'",
     "output_type": "error",
     "traceback": [
      "\u001b[1;31m---------------------------------------------------------------------------\u001b[0m",
      "\u001b[1;31mModuleNotFoundError\u001b[0m                       Traceback (most recent call last)",
      "Cell \u001b[1;32mIn[5], line 3\u001b[0m\n\u001b[0;32m      1\u001b[0m \u001b[38;5;28;01mimport\u001b[39;00m \u001b[38;5;21;01mos\u001b[39;00m\n\u001b[0;32m      2\u001b[0m \u001b[38;5;28;01mfrom\u001b[39;00m \u001b[38;5;21;01mflask\u001b[39;00m \u001b[38;5;28;01mimport\u001b[39;00m Flask,request,jsonify\n\u001b[1;32m----> 3\u001b[0m \u001b[38;5;28;01mimport\u001b[39;00m \u001b[38;5;21;01mmodels\u001b[39;00m\n\u001b[0;32m      4\u001b[0m \u001b[38;5;66;03m# from importnb import Notebook # ใช้ importnb เพื่อ models .ipynb\u001b[39;00m\n\u001b[0;32m      5\u001b[0m \n\u001b[0;32m      6\u001b[0m \u001b[38;5;66;03m# # นำเข้า models.ipynb\u001b[39;00m\n\u001b[0;32m      7\u001b[0m \u001b[38;5;66;03m# with Notebook():\u001b[39;00m\n\u001b[0;32m      8\u001b[0m \u001b[38;5;66;03m#     import models  # ไฟล์ .ipynb จะถูก import โดยใช้ชื่อ model\u001b[39;00m\n\u001b[0;32m     10\u001b[0m app \u001b[38;5;241m=\u001b[39m Flask(\u001b[38;5;18m__name__\u001b[39m)\n",
      "\u001b[1;31mModuleNotFoundError\u001b[0m: No module named 'models'"
     ]
    }
   ],
   "source": [
    "import os\n",
    "from flask import Flask,request,jsonify\n",
    "# import models\n",
    "# from importnb import Notebook # ใช้ importnb เพื่อ models .ipynb\n",
    "\n",
    "# นำเข้า models.ipynb\n",
    "with Notebook():\n",
    "    import model  # ไฟล์ .ipynb จะถูก import โดยใช้ชื่อ model\n",
    "\n",
    "app = Flask(__name__)\n",
    "\n",
    "@app.route('/predict', methods=['POST'])\n",
    "def predict():\n",
    "\n",
    "    # รับ input (จำนวนปีและจำนวนเงินเริ่มต้น) จาก request\n",
    "    data = request.get_json()\n",
    "\n",
    "    try:\n",
    "        # แปลงค่า n_years และ initial_amount เป็น int\n",
    "        n_years = int(data.get('n_years'))\n",
    "        initial_amount = float(data.get('initial_amount'))\n",
    "    except ValueError:\n",
    "        return jsonify({'error': 'Invalid input. Ensure that n_years and initial_amount are integers.'}), 400\n",
    "\n",
    "    # เรียกใช้ฟังก์ชันใน models.py เพื่อทำนายผล\n",
    "    predictions = models.predict(n_years, initial_amount)\n",
    "\n",
    "    # ส่งคืนผลลัพธ์กลับเป็น JSON\n",
    "    return jsonify(predictions)\n",
    "\n",
    "if __name__ == '__main__':\n",
    "    port = int(os.environ.get('PORT', 5050))\n",
    "    app.run(debug=False,host='0.0.0.0' ,port=port)\n",
    "\n",
    "\n",
    "\n"
   ]
  },
  {
   "cell_type": "code",
   "execution_count": null,
   "metadata": {},
   "outputs": [],
   "source": []
  }
 ],
 "metadata": {
  "kernelspec": {
   "display_name": "Python 3",
   "language": "python",
   "name": "python3"
  },
  "language_info": {
   "codemirror_mode": {
    "name": "ipython",
    "version": 3
   },
   "file_extension": ".py",
   "mimetype": "text/x-python",
   "name": "python",
   "nbconvert_exporter": "python",
   "pygments_lexer": "ipython3",
   "version": "3.12.2"
  }
 },
 "nbformat": 4,
 "nbformat_minor": 2
}
